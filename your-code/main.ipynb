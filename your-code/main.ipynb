{
 "cells": [
  {
   "cell_type": "markdown",
   "metadata": {},
   "source": [
    "# Probability"
   ]
  },
  {
   "cell_type": "markdown",
   "metadata": {},
   "source": [
    "## Challenge 1\n",
    "There is a box with 10 white balls, 12 red balls and 8 black balls. Calculate the probability of:\n",
    "* Taking a white ball out.\n",
    "* Taking a white ball on first extraction and a black ball out on second extraction without replacing the first one.\n",
    "* Taking a white ball on first extraction and a black ball out on second extraction replacing the first one.\n",
    "* Taking 3 balls and them being all different colours."
   ]
  },
  {
   "cell_type": "code",
   "execution_count": null,
   "metadata": {},
   "outputs": [],
   "source": [
    "\"\"\"\n",
    "\n",
    "1. Probabilidad de sacar una bola blanca:\n",
    "\n",
    "P(W) = 10/30 = 0.3\n",
    "\n",
    "2. Probabilidad de sacar una bola blanca en la primera extracción y una negra en la segunda extracción, sin reemplazo:\n",
    "\n",
    "P(W) = 0.3 -- primera extracción\n",
    "P(B|W) = 8/29 = 0.275862069 -- segunda extracción \n",
    "\n",
    "Resultado = P(W) * P(B|W)= 0.091954023\n",
    "\n",
    "\n",
    "3. Probabilidad de sacar una bola blanca en la primera extracción y una negra en la segunda extracción, con reemplazo:\n",
    "\n",
    "P(W) = 0.3 -- primera extracción\n",
    "P(B) = 8/30 = 0.266 -- segunda extracción\n",
    "\n",
    "Resultado = P(W) * P(B) = 0.088888889\n",
    "\n",
    "\n",
    "4. Probabilidad de sacar tres bolas que todas sean de colores diferentes:\n",
    "\n",
    "Num. de maneras posbiles de seleccionar 3 bolas = combinación 30 3 = factorial 30/(factorial 27 * factorial 3) = 4060 \n",
    "\n",
    "Num. de maneras posibles de seleccionar 3 bolas de colores diferentes = (num W)*(num B)*(num R)= 960\n",
    "\n",
    "P(3 bolas de colores diferentes) = 960/4060 =  0.2365 \n",
    "\n",
    "your solution here\n",
    "\"\"\""
   ]
  },
  {
   "cell_type": "markdown",
   "metadata": {},
   "source": [
    "## Challenge 2\n",
    "\n",
    "You want to go on picnic on Saturday. You hate rain, and would know to plan your weekend. To help you make a decision, you gather the following data about rainy days:\n",
    "\n",
    "* 40% of all days are cloudy.\n",
    "* About 50% of cloudy days are rainy. \n",
    "* About 20% of non-cloudy days are rainy.\n",
    "\n",
    "What is the chance of rain during next Saturday?"
   ]
  },
  {
   "cell_type": "code",
   "execution_count": 9,
   "metadata": {},
   "outputs": [
    {
     "data": {
      "text/plain": [
       "'\\nC = cloudy\\nR = rainy \\nNC = non-cloudy days\\n\\nP(C) = 0.4\\nP(NC) = 1 - P(C) = 0.6\\nP(R|C) = 0.5\\nP(R|NC) = 0.2\\n\\nP(R) =  P(R|C)*P(C) + P(R|NC)*P(NC) = 0.5*0.4 + 0.6*0.2 = 0.32\\n\\nLa probabilidad de que el proximo sábado llueva es del 32%\\n\\n'"
      ]
     },
     "execution_count": 9,
     "metadata": {},
     "output_type": "execute_result"
    }
   ],
   "source": [
    "\"\"\"\n",
    "C = cloudy\n",
    "R = rainy \n",
    "NC = non-cloudy days\n",
    "\n",
    "P(C) = 0.4\n",
    "P(NC) = 1 - P(C) = 0.6\n",
    "P(R|C) = 0.5\n",
    "P(R|NC) = 0.2\n",
    "\n",
    "P(R) =  P(R|C)*P(C) + P(R|NC)*P(NC) = 0.5*0.4 + 0.6*0.2 = 0.32\n",
    "\n",
    "La probabilidad de que el proximo sábado llueva es del 32%\n",
    "\n",
    "\"\"\""
   ]
  },
  {
   "cell_type": "markdown",
   "metadata": {},
   "source": [
    "## Challenge 3\n",
    "\n",
    "A and B are events of a probability such that $P(A) = 0.3$, $P(B) = 0.6$ and $P(A \\cap B) = 0.1$\n",
    "\n",
    "Which of the following statements are true?  \n",
    "**HINT: draw a big Venn Diagram by your side**  \n",
    "* $P(\\overline{A}) = 0.7$\n",
    "* $P(A \\cup B) = 0.6$\n",
    "* $P(A \\cap \\overline{B}) = 0.2$\n",
    "* $P(A \\cup \\overline{A}) = 1$  \n",
    "* $P(A \\cap (B \\cup \\overline{B})) = 0.4$\n",
    "* $P(\\overline{A} \\cap \\overline{B}) = 0.3$\n",
    "* $P(\\overline{A \\cap B}) = 0.9$"
   ]
  },
  {
   "cell_type": "code",
   "execution_count": 8,
   "metadata": {},
   "outputs": [
    {
     "ename": "SyntaxError",
     "evalue": "invalid syntax (3161228314.py, line 1)",
     "output_type": "error",
     "traceback": [
      "\u001b[1;36m  File \u001b[1;32m\"C:\\Users\\manya\\AppData\\Local\\Temp\\ipykernel_2824\\3161228314.py\"\u001b[1;36m, line \u001b[1;32m1\u001b[0m\n\u001b[1;33m    Statement 1: True\u001b[0m\n\u001b[1;37m              ^\u001b[0m\n\u001b[1;31mSyntaxError\u001b[0m\u001b[1;31m:\u001b[0m invalid syntax\n"
     ]
    }
   ],
   "source": [
    "\"\"\"\n",
    "Statement 1: True\n",
    "P(A) = 0.3\n",
    "p(A') = 1-0.3 = 0.7\n",
    "\n",
    "Statement 2: False \n",
    "P(A ∪ B) = P(A) + P(B) - P(𝐴 ∩ 𝐵) = 0.3 + 0.6 - 0.1 = 0.8\n",
    "\n",
    "\n",
    "Statement 3: True\n",
    "\n",
    "P(A ∩  B') = P(A) - P( A ∩ B) = 0.2\n",
    "\n",
    "\n",
    "Statement 4: True \n",
    "\n",
    "P(A ∪ A') = P(A) + P(A') = 1\n",
    "\n",
    "\n",
    "Statement 5: False\n",
    "\n",
    "𝑃(A∩(B∪B')) = P(A)=0.3 , ya que es A ∩ con todo el espacio muestral \n",
    "\n",
    "\n",
    "\n",
    "Statement 6: False\n",
    "\n",
    "P(A'∩ B') = 1 - P(A ∪ B) = 1 - 0.8 = 0.2\n",
    "\n",
    "\n",
    "\n",
    "Statement 7: True\n",
    "\n",
    "P(intersección' A' y B') = 1 - P(A ∩ B) = 1 - 0.1 = 0.9\n",
    "\n",
    "\n",
    "\n",
    "\"\"\"\n"
   ]
  },
  {
   "cell_type": "markdown",
   "metadata": {},
   "source": [
    "## Challenge 4\n",
    "\n",
    " * If someone flies to China, the probability of getting Covid is 1%  \n",
    " * If someone flies to Italy, the probability of getting Covid is 20%  \n",
    "\n",
    "I roll 1 dice with numbers 1, 2, 3, 4, 5, 6:  \n",
    " * If 1: I fly to Italy\n",
    " * If not 1: I fly to China\n",
    "\n",
    "During my trip, I got Covid. What is the probability that I flew to China?"
   ]
  },
  {
   "cell_type": "code",
   "execution_count": 11,
   "metadata": {},
   "outputs": [
    {
     "data": {
      "text/plain": [
       "0.2"
      ]
     },
     "execution_count": 11,
     "metadata": {},
     "output_type": "execute_result"
    }
   ],
   "source": [
    "# your code here\n",
    "\n",
    "pco_c= 0.01\n",
    "pco_i = 0.2\n",
    "pi = 1/6\n",
    "pc = 5/6\n",
    "\n",
    "ptotal_co = pco_c * pc + pco_i * pi\n",
    "pc_co = (pco_c * pc)/ptotal_co\n",
    "pc_co"
   ]
  },
  {
   "cell_type": "code",
   "execution_count": 3,
   "metadata": {},
   "outputs": [
    {
     "data": {
      "text/plain": [
       "'\\nyour solution here\\n'"
      ]
     },
     "execution_count": 3,
     "metadata": {},
     "output_type": "execute_result"
    }
   ],
   "source": [
    "\"\"\"\n",
    "Co = covid \n",
    "C = fly China\n",
    "I = fly italy\n",
    "\n",
    "P(Co|C) = 0.01\n",
    "P(Co|I) = 0.2 \n",
    "\n",
    "P(I) = 1/6 -- probabilidad de viajar a italy\n",
    "P(C) = 5/6 -- probabilidad de viajar a China\n",
    "\n",
    "P(C|Co)?\n",
    "\n",
    "\n",
    "Para conocer la probabilidad de tener covid, aplicamos el teorema de la probabilidad total que seria: \n",
    "\n",
    "P(Co) = P(Co|C)*P(C) + P(Co|I) * P(I)\n",
    "\n",
    "Cuando ya tenemos la probabilidad total de tener covid, podemos sacar la probabilidad condicional de haber viajado a China \n",
    "si tenemos Covid mediante el teorema de Bayes: \n",
    "\n",
    "P(C|Co) = (P(Co|C) * P(C))/ P(Co) \n",
    "\n",
    "La probabilidad de haber viajado a China si tengo Covid es del 20%\n",
    "\n",
    "\"\"\""
   ]
  },
  {
   "cell_type": "markdown",
   "metadata": {},
   "source": [
    "## BONUS\n",
    "\n",
    "You roll 2 dice. What is the probability that the sum of the numbers is 7? And 8? And 9? Then simulate 10000 times and draw a countplot."
   ]
  },
  {
   "cell_type": "markdown",
   "metadata": {},
   "source": [
    "your explanation here"
   ]
  },
  {
   "cell_type": "code",
   "execution_count": 4,
   "metadata": {},
   "outputs": [],
   "source": [
    "# your code here"
   ]
  },
  {
   "cell_type": "code",
   "execution_count": 5,
   "metadata": {},
   "outputs": [
    {
     "data": {
      "text/plain": [
       "'\\nyour solution here\\n'"
      ]
     },
     "execution_count": 5,
     "metadata": {},
     "output_type": "execute_result"
    }
   ],
   "source": [
    "\"\"\"\n",
    "\n",
    "D1 = {1,2,3,4,5,6}\n",
    "D2 = {1,2,3,4,5,6}\n",
    "\n",
    "Total de casos  posibles = 6*6 = 36 \n",
    "\n",
    "Evento 1 = suma de D1 y D2 sea 7 \n",
    "\n",
    "casos posible en el evento 1 = {(1,6),(6,1),(2,5), (5,2), (3,4), (4,3)} -- 6 posibles maneras\n",
    "\n",
    "P(suma de D1,D2 sea 7) = 6/36 = 1/6 \n",
    "\n",
    "\n",
    "Evento 2 = suma de D1 y D2 sea 8\n",
    "\n",
    "casos posibles en el evento 2 = {(2,6),(6,2),(3,5),(5,3),(4,4)} - 5 maneras posibles\n",
    "\n",
    "P(suma de D1, D2 sea 8) = 5/36\n",
    "\n",
    "\n",
    "Evento 3 = suma de D1, D2 sea 9\n",
    "\n",
    "casos posibles evento 3 = {(3,6),(6,3),(4,5),(5,4)} -- 4 maneras posibles \n",
    "\n",
    "\n",
    "P(suma de D1, D2 sea 8) = 4/36 = 1/9\n",
    "\n",
    "your solution here\n",
    "\"\"\""
   ]
  },
  {
   "cell_type": "code",
   "execution_count": null,
   "metadata": {},
   "outputs": [],
   "source": []
  }
 ],
 "metadata": {
  "kernelspec": {
   "display_name": "Python 3 (ipykernel)",
   "language": "python",
   "name": "python3"
  },
  "language_info": {
   "codemirror_mode": {
    "name": "ipython",
    "version": 3
   },
   "file_extension": ".py",
   "mimetype": "text/x-python",
   "name": "python",
   "nbconvert_exporter": "python",
   "pygments_lexer": "ipython3",
   "version": "3.9.13"
  },
  "toc": {
   "base_numbering": 1,
   "nav_menu": {},
   "number_sections": false,
   "sideBar": true,
   "skip_h1_title": false,
   "title_cell": "Table of Contents",
   "title_sidebar": "Contents",
   "toc_cell": false,
   "toc_position": {
    "height": "calc(100% - 180px)",
    "left": "10px",
    "top": "150px",
    "width": "296.475px"
   },
   "toc_section_display": true,
   "toc_window_display": false
  },
  "varInspector": {
   "cols": {
    "lenName": 16,
    "lenType": 16,
    "lenVar": 40
   },
   "kernels_config": {
    "python": {
     "delete_cmd_postfix": "",
     "delete_cmd_prefix": "del ",
     "library": "var_list.py",
     "varRefreshCmd": "print(var_dic_list())"
    },
    "r": {
     "delete_cmd_postfix": ") ",
     "delete_cmd_prefix": "rm(",
     "library": "var_list.r",
     "varRefreshCmd": "cat(var_dic_list()) "
    }
   },
   "types_to_exclude": [
    "module",
    "function",
    "builtin_function_or_method",
    "instance",
    "_Feature"
   ],
   "window_display": false
  }
 },
 "nbformat": 4,
 "nbformat_minor": 2
}
