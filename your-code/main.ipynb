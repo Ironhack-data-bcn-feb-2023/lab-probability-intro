{
 "cells": [
  {
   "cell_type": "markdown",
   "metadata": {},
   "source": [
    "# Probability"
   ]
  },
  {
   "cell_type": "markdown",
   "metadata": {},
   "source": [
    "## Challenge 1\n",
    "There is a box with 10 white balls, 12 red balls and 8 black balls. Calculate the probability of:\n",
    "* Taking a white ball out.\n",
    "* Taking a white ball on first extraction and a black ball out on second extraction without replacing the first one.\n",
    "* Taking a white ball on first extraction and a black ball out on second extraction replacing the first one.\n",
    "* Taking 3 balls and them being all different colours."
   ]
  },
  {
   "cell_type": "code",
   "execution_count": 10,
   "metadata": {},
   "outputs": [],
   "source": [
    "blancas=10\n",
    "rojas=12\n",
    "negras=8\n",
    "total=30"
   ]
  },
  {
   "cell_type": "code",
   "execution_count": 11,
   "metadata": {},
   "outputs": [
    {
     "data": {
      "text/plain": [
       "0.3333333333333333"
      ]
     },
     "execution_count": 11,
     "metadata": {},
     "output_type": "execute_result"
    }
   ],
   "source": [
    "white_ball=10/30\n",
    "white_ball"
   ]
  },
  {
   "cell_type": "code",
   "execution_count": 13,
   "metadata": {},
   "outputs": [
    {
     "data": {
      "text/plain": [
       "0.09195402298850575"
      ]
     },
     "execution_count": 13,
     "metadata": {},
     "output_type": "execute_result"
    }
   ],
   "source": [
    "white_black_noreplace=white_ball*(8/29)\n",
    "white_black_noreplace"
   ]
  },
  {
   "cell_type": "code",
   "execution_count": 15,
   "metadata": {},
   "outputs": [
    {
     "data": {
      "text/plain": [
       "0.08888888888888888"
      ]
     },
     "execution_count": 15,
     "metadata": {},
     "output_type": "execute_result"
    }
   ],
   "source": [
    "white_black_replace=white_ball*(8/30)\n",
    "white_black_replace"
   ]
  },
  {
   "cell_type": "code",
   "execution_count": 16,
   "metadata": {},
   "outputs": [
    {
     "data": {
      "text/plain": [
       "0.035555555555555556"
      ]
     },
     "execution_count": 16,
     "metadata": {},
     "output_type": "execute_result"
    }
   ],
   "source": [
    "diferentcolors=(10/30)*(8/30)*(12/30)\n",
    "diferentcolors"
   ]
  },
  {
   "cell_type": "markdown",
   "metadata": {},
   "source": [
    "## Challenge 2\n",
    "\n",
    "You want to go on picnic on Saturday. You hate rain, and would know to plan your weekend. To help you make a decision, you gather the following data about rainy days:\n",
    "\n",
    "* 40% of all days are cloudy.\n",
    "* About 50% of cloudy days are rainy. \n",
    "* About 20% of non-cloudy days are rainy.\n",
    "\n",
    "What is the chance of rain during next Saturday?"
   ]
  },
  {
   "cell_type": "code",
   "execution_count": 6,
   "metadata": {},
   "outputs": [
    {
     "data": {
      "text/plain": [
       "32.0"
      ]
     },
     "execution_count": 6,
     "metadata": {},
     "output_type": "execute_result"
    }
   ],
   "source": [
    "\"\"\"\n",
    "your solution here\n",
    "\"\"\"\n",
    "#A = It is Saturday.\n",
    "#B = It is cloudy.\n",
    "#C = It is rainy.\n",
    "\n",
    "#def calculate_chance_of_rain():\n",
    "# Given probabilities\n",
    "P_B = 0.4  #day being cloudy\n",
    "P_C_given_B = 0.5  #rain on a cloudy day\n",
    "P_C_given_not_B = 0.2  #rain on a non-cloudy day\n",
    "\n",
    "#Probability of a non-cloudy day\n",
    "P_not_B = 1 - P_B\n",
    "\n",
    "#Total Probability\n",
    "P_C = P_C_given_B * P_B + P_C_given_not_B * P_not_B\n",
    "\n",
    "#Saturday given that it is rainy \n",
    "P_A_given_C = 1/7\n",
    "\n",
    "#Saturday \n",
    "P_A = 1/7\n",
    "\n",
    "#Bayes' theorem\n",
    "P_C_given_A = P_A_given_C * P_C / P_A\n",
    "P_C_given_A*100\n"
   ]
  },
  {
   "cell_type": "markdown",
   "metadata": {},
   "source": [
    "\n",
    "## Challenge 3\n",
    "\n",
    "A and B are events of a probability such that $P(A) = 0.3$, $P(B) = 0.6$ and $P(A \\cap B) = 0.1$\n",
    "\n",
    "Which of the following statements are true?  \n",
    "**HINT: draw a big Venn Diagram by your side**  \n",
    "* $P(\\overline{A}) = 0.7$\n",
    "* $P(A \\cup B) = 0.6$\n",
    "* $P(A \\cap \\overline{B}) = 0.2$\n",
    "* $P(A \\cup \\overline{A}) = 1$  \n",
    "* $P(A \\cap (B \\cup \\overline{B})) = 0.4$\n",
    "* $P(\\overline{A} \\cap \\overline{B}) = 0.3$\n",
    "* $P(\\overline{A \\cap B}) = 0.9$"
   ]
  },
  {
   "cell_type": "code",
   "execution_count": 12,
   "metadata": {},
   "outputs": [
    {
     "name": "stdout",
     "output_type": "stream",
     "text": [
      "Statement 1 is true\n",
      "Statement 2 is false\n",
      "Statement 3 is false\n",
      "Statement 4 is true\n",
      "Statement 5 is false\n",
      "Statement 6 is false\n",
      "Statement 7 is false\n"
     ]
    }
   ],
   "source": [
    "\"\"\"\n",
    "your solution here\n",
    "\"\"\"\n",
    "\n",
    "P_A = 0.3\n",
    "P_B = 0.6\n",
    "P_A_intersection_B = 0.1\n",
    "P_A_complement = 1 - P_A\n",
    "P_B_complement = 1 - P_B\n",
    "P_A_intersection_B_complement = P_A - P_A_intersection_B\n",
    "\n",
    "P_A_union_B = P_A + P_B - P_A_intersection_B\n",
    "P_A_union_A_complement = 1\n",
    "P_A_intersection_B_union_B_complement = P_A_intersection_B_complement\n",
    "P_A_complement_intersection_B_complement = P_B_complement - P_A_intersection_B_complement\n",
    "P_A_intersection_B_complement_complement = 1 - P_A_intersection_B_complement\n",
    "\n",
    "statement1 = P_A_complement == 0.7\n",
    "statement2 = P_A_union_B == 0.6\n",
    "statement3 = P_A_intersection_B_complement == 0.2\n",
    "statement4 = P_A_union_A_complement == 1\n",
    "statement5 = P_A_intersection_B_union_B_complement == 0.4\n",
    "statement6 = P_A_complement_intersection_B_complement == 0.3\n",
    "statement7 = P_A_intersection_B_complement_complement == 0.9\n",
    "\n",
    "print(f\"Statement 1 is {'true' if statement1 else 'false'}\")\n",
    "print(f\"Statement 2 is {'true' if statement2 else 'false'}\")\n",
    "print(f\"Statement 3 is {'true' if statement3 else 'false'}\")\n",
    "print(f\"Statement 4 is {'true' if statement4 else 'false'}\")\n",
    "print(f\"Statement 5 is {'true' if statement5 else 'false'}\")\n",
    "print(f\"Statement 6 is {'true' if statement6 else 'false'}\")\n",
    "print(f\"Statement 7 is {'true' if statement7 else 'false'}\")\n",
    "\n"
   ]
  },
  {
   "cell_type": "markdown",
   "metadata": {},
   "source": [
    "## Challenge 4\n",
    "\n",
    " * If someone flies to China, the probability of getting Covid is 1%  \n",
    " * If someone flies to Italy, the probability of getting Covid is 20%  \n",
    "\n",
    "I roll 1 dice with numbers 1, 2, 3, 4, 5, 6:  \n",
    " * If 1: I fly to Italy\n",
    " * If not 1: I fly to China\n",
    "\n",
    "During my trip, I got Covid. What is the probability that I flew to China?"
   ]
  },
  {
   "cell_type": "code",
   "execution_count": 14,
   "metadata": {},
   "outputs": [
    {
     "data": {
      "text/plain": [
       "83.33333333333334"
      ]
     },
     "execution_count": 14,
     "metadata": {},
     "output_type": "execute_result"
    }
   ],
   "source": [
    "# your code here\n",
    "getting_covid_in_china=0.01\n",
    "getting_covid_in_italy=0.2\n",
    "\n",
    "flying_italy = 1/6\n",
    "flying_china = 1-flying_italy\n",
    "flying_china*100"
   ]
  },
  {
   "cell_type": "markdown",
   "metadata": {},
   "source": [
    "## BONUS\n",
    "\n",
    "You roll 2 dice. What is the probability that the sum of the numbers is 7? And 8? And 9? Then simulate 10000 times and draw a countplot."
   ]
  },
  {
   "cell_type": "markdown",
   "metadata": {},
   "source": [
    "your explanation here"
   ]
  },
  {
   "cell_type": "code",
   "execution_count": null,
   "metadata": {},
   "outputs": [],
   "source": [
    "# your code here"
   ]
  },
  {
   "cell_type": "code",
   "execution_count": null,
   "metadata": {},
   "outputs": [],
   "source": [
    "\"\"\"\n",
    "your solution here\n",
    "\"\"\""
   ]
  }
 ],
 "metadata": {
  "kernelspec": {
   "display_name": "Python 3 (ipykernel)",
   "language": "python",
   "name": "python3"
  },
  "language_info": {
   "codemirror_mode": {
    "name": "ipython",
    "version": 3
   },
   "file_extension": ".py",
   "mimetype": "text/x-python",
   "name": "python",
   "nbconvert_exporter": "python",
   "pygments_lexer": "ipython3",
   "version": "3.9.13"
  },
  "toc": {
   "base_numbering": 1,
   "nav_menu": {},
   "number_sections": false,
   "sideBar": true,
   "skip_h1_title": false,
   "title_cell": "Table of Contents",
   "title_sidebar": "Contents",
   "toc_cell": false,
   "toc_position": {
    "height": "calc(100% - 180px)",
    "left": "10px",
    "top": "150px",
    "width": "296.475px"
   },
   "toc_section_display": true,
   "toc_window_display": false
  },
  "varInspector": {
   "cols": {
    "lenName": 16,
    "lenType": 16,
    "lenVar": 40
   },
   "kernels_config": {
    "python": {
     "delete_cmd_postfix": "",
     "delete_cmd_prefix": "del ",
     "library": "var_list.py",
     "varRefreshCmd": "print(var_dic_list())"
    },
    "r": {
     "delete_cmd_postfix": ") ",
     "delete_cmd_prefix": "rm(",
     "library": "var_list.r",
     "varRefreshCmd": "cat(var_dic_list()) "
    }
   },
   "types_to_exclude": [
    "module",
    "function",
    "builtin_function_or_method",
    "instance",
    "_Feature"
   ],
   "window_display": false
  }
 },
 "nbformat": 4,
 "nbformat_minor": 2
}
