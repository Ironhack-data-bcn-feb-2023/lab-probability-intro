{
 "cells": [
  {
   "cell_type": "markdown",
   "metadata": {},
   "source": [
    "# Probability"
   ]
  },
  {
   "cell_type": "markdown",
   "metadata": {},
   "source": [
    "## Challenge 1\n",
    "There is a box with 10 white balls, 12 red balls and 8 black balls. Calculate the probability of:\n",
    "* Taking a white ball out.\n",
    "* Taking a white ball on first extraction and a black ball out on second extraction without replacing the first one.\n",
    "* Taking a white ball on first extraction and a black ball out on second extraction replacing the first one.\n",
    "* Taking 3 balls and them being all different colours."
   ]
  },
  {
   "cell_type": "code",
   "execution_count": 2,
   "metadata": {},
   "outputs": [],
   "source": [
    "# IMPORTS\n",
    "import random"
   ]
  },
  {
   "cell_type": "code",
   "execution_count": 3,
   "metadata": {},
   "outputs": [],
   "source": [
    "# DATA\n",
    "white_balls = 10\n",
    "red_balls   = 12\n",
    "black_balls = 8\n",
    "\n",
    "total_balls = white_balls + red_balls + black_balls\n",
    "\n",
    "def factorial(n):\n",
    "    if n == 0:\n",
    "        return 1\n",
    "    else:\n",
    "        return n * factorial(n-1)\n",
    "\n",
    "fact30 = factorial(30)\n",
    "fact3  = factorial(3)"
   ]
  },
  {
   "cell_type": "code",
   "execution_count": 4,
   "metadata": {},
   "outputs": [
    {
     "name": "stdout",
     "output_type": "stream",
     "text": [
      "PROBABILITY OF:\n",
      " · Taking a white ball out:\n",
      "0.3333333333333333\n"
     ]
    }
   ],
   "source": [
    "# TAKING A WHITE BALL OUT\n",
    "\n",
    "print(\"PROBABILITY OF:\")\n",
    "print(\" · Taking a white ball out:\")\n",
    "print(white_balls / total_balls)"
   ]
  },
  {
   "cell_type": "code",
   "execution_count": 5,
   "metadata": {},
   "outputs": [
    {
     "name": "stdout",
     "output_type": "stream",
     "text": [
      "\n",
      " · Taking a white ball on first extraction and a black ball out on second extraction without replacing the first one:\n",
      "0.27586206896551724\n"
     ]
    }
   ],
   "source": [
    "# TAKING A WHITE BALL OUT ON FIRST EXTRACTION AND A BLACK BALL OUT ON SECOND EXTRACTION WIHTOUT REPLACING THE FIRST ONE\n",
    "\n",
    "print(\"\\n · Taking a white ball on first extraction and a black ball out on second extraction without replacing the first one:\")\n",
    "print(black_balls / (total_balls - 1))"
   ]
  },
  {
   "cell_type": "code",
   "execution_count": 6,
   "metadata": {},
   "outputs": [
    {
     "name": "stdout",
     "output_type": "stream",
     "text": [
      "\n",
      " · Taking a white ball on first extraction and a black ball out on second extraction replacing the first one:\n",
      "0.26666666666666666\n"
     ]
    }
   ],
   "source": [
    "# TAKING A WHITE BALL OUT ON FIRST EXTRACTION AND A BLACK BALL OUT ON SECOND EXTRACTION REPLACING THE FIRST ONE\n",
    "\n",
    "print(\"\\n · Taking a white ball on first extraction and a black ball out on second extraction replacing the first one:\")\n",
    "print(black_balls / total_balls)"
   ]
  },
  {
   "cell_type": "code",
   "execution_count": 7,
   "metadata": {},
   "outputs": [
    {
     "name": "stdout",
     "output_type": "stream",
     "text": [
      "\n",
      " · Taking 3 balls and them being all different colours\n",
      "0.23645320197044337\n"
     ]
    }
   ],
   "source": [
    "# TAKING 3 BALLS AND THEM BEING ALL DIFFERENT COLOURS\n",
    "\n",
    "print(\"\\n · Taking 3 balls and them being all different colours\")\n",
    "W = white_balls / total_balls\n",
    "R = red_balls   / total_balls\n",
    "B = black_balls / total_balls\n",
    "\n",
    "# WRB, WBR\n",
    "WRB = W * (red_balls / (total_balls -1)) * (black_balls / (total_balls -2))\n",
    "WBR = W * (black_balls / (total_balls -1)) * (red_balls / (total_balls -2))\n",
    "# RWB, RBW\n",
    "RWB = R * (white_balls / (total_balls -1)) * (black_balls / (total_balls -2))\n",
    "RBW = R * (black_balls / (total_balls -1)) * (white_balls / (total_balls -2))\n",
    "# BRW, BWR\n",
    "BRW = B * (red_balls / (total_balls -1)) * (white_balls / (total_balls -2))\n",
    "BWR = B * (white_balls / (total_balls -1)) * (red_balls / (total_balls -2))\n",
    "\n",
    "P = WRB + WBR + RWB + RBW + BRW + BWR\n",
    "\n",
    "print(P)"
   ]
  },
  {
   "cell_type": "markdown",
   "metadata": {},
   "source": [
    "## Challenge 2\n",
    "\n",
    "You want to go on picnic on Saturday. You hate rain, and would know to plan your weekend. To help you make a decision, you gather the following data about rainy days:\n",
    "\n",
    "* 40% of all days are cloudy.\n",
    "* About 50% of cloudy days are rainy. \n",
    "* About 20% of non-cloudy days are rainy.\n",
    "\n",
    "What is the chance of rain during next Saturday?"
   ]
  },
  {
   "cell_type": "code",
   "execution_count": 8,
   "metadata": {},
   "outputs": [
    {
     "name": "stdout",
     "output_type": "stream",
     "text": [
      "0.32\n"
     ]
    }
   ],
   "source": [
    "\"\"\"\n",
    "your solution here\n",
    "\"\"\"\n",
    "# 40% of all days are cloudy\n",
    "    # 50% of cloudy days are rainy\n",
    "# 60% of all days are non-cloudy\n",
    "    # 20% of non-cloudy days are rainy\n",
    "    \n",
    "print((0.4 * 0.5) + (0.6 * 0.2))"
   ]
  },
  {
   "cell_type": "markdown",
   "metadata": {},
   "source": [
    "## Challenge 3\n",
    "\n",
    "A and B are events of a probability such that $P(A) = 0.3$, $P(B) = 0.6$ and $P(A \\cap B) = 0.1$\n",
    "\n",
    "Which of the following statements are true?  \n",
    "**HINT: draw a big Venn Diagram by your side**  \n",
    "* $P(\\overline{A}) = 0.7$\n",
    "* $P(A \\cup B) = 0.6$\n",
    "* $P(A \\cap \\overline{B}) = 0.2$\n",
    "* $P(A \\cup \\overline{A}) = 1$  \n",
    "* $P(A \\cap (B \\cup \\overline{B})) = 0.4$\n",
    "* $P(\\overline{A} \\cap \\overline{B}) = 0.3$\n",
    "* $P(\\overline{A \\cap B}) = 0.9$"
   ]
  },
  {
   "attachments": {},
   "cell_type": "markdown",
   "metadata": {},
   "source": [
    "#### RESPUESTAS:\n",
    "La primera afirmación es cierta, ya que:\n",
    "* $P(\\overline{A}) = 1 - P(A) = 1 - 0.3 = 0.7$\n",
    "\n",
    "La segunda afirmación es falsa, ya que:  \n",
    "* $P(A \\cup B) = P(A) + P(B) - P(A \\cap B)$  \n",
    "* $P(A \\cup B) = 0.3 + 0.6 - 0.1 = 0.8$\n",
    "\n",
    "La tercera afirmación es cierta, ya que:\n",
    "* $P(A \\cap \\overline{B}) = P(A) - P(A \\cap B)$  \n",
    "* $P(A \\cap \\overline{B}) = 0.3 - 0.1 = 0.2$\n",
    "\n",
    "La cuarta afirmación es cierta, ya que:\n",
    "* $P(A \\cup \\overline{A}) = 0.3 + 0.7 = 1$\n",
    "\n",
    "La quinta afirmación es falsa, ya que:\n",
    "* $P(A \\cap (B \\cup \\overline{B}))$  \n",
    "* $P(A \\cap (0.6 + 0.4))$\n",
    "* $P(A \\cap 1)$\n",
    "* $P(A \\cap \\Omega) = P(A) = 0.3$\n",
    "\n",
    "La sexta afirmación es falsa, ya que:  \n",
    "_regla de 'De Morgan'_\n",
    "* $\\overline{A \\cup B} = \\overline{A} \\cap \\overline{B}$  \n",
    "* $P(\\overline{A} \\cap \\overline{B}) = P(\\overline{A \\cup B})$\n",
    "* $P(\\overline{A \\cup B}) = 1 - P(A \\cup B)$  \n",
    "---\n",
    "* $P(A \\cup B) = P(A) + P(B) - P(A \\cap B)$\n",
    "* $P(A \\cup B) = 0.3 + 0.6 - 0.1$\n",
    "* $P(A \\cup B) = 0.8$\n",
    "---\n",
    "* $P(\\overline{A \\cup B}) = 1 - P(A \\cup B) = 1 - 0.8 = 0.2$\n",
    "---\n",
    "* $P(\\overline{A} \\cap \\overline{B}) = P(\\overline{A \\cup B}) = 0.2$\n",
    "\n",
    "La séptima afirmación es cierta, ya que:\n",
    "* $P(\\overline{A \\cap B}) = 1 - P(A \\cap B) = 1 - 0.1 = 0.9$"
   ]
  },
  {
   "cell_type": "markdown",
   "metadata": {},
   "source": [
    "## Challenge 4\n",
    "\n",
    " * If someone flies to China, the probability of getting Covid is 1%  \n",
    " * If someone flies to Italy, the probability of getting Covid is 20%  \n",
    "\n",
    "I roll 1 dice with numbers 1, 2, 3, 4, 5, 6:  \n",
    " * If 1: I fly to Italy\n",
    " * If not 1: I fly to China\n",
    "\n",
    "During my trip, I got Covid. What is the probability that I flew to China?"
   ]
  },
  {
   "cell_type": "code",
   "execution_count": 9,
   "metadata": {},
   "outputs": [
    {
     "name": "stdout",
     "output_type": "stream",
     "text": [
      "0.1962174940898345\n"
     ]
    }
   ],
   "source": [
    "\"\"\"\n",
    "your solution here\n",
    "\"\"\"\n",
    "# What is the probability that I flew to China?\n",
    "\n",
    "# necesito árbol de probabilidad:\n",
    "# roll d6 dice: if 1 I fly to Italy, if not 1 I fly to China\n",
    "    # regla de 3 para encontrar cuánto es 1/6, sabiendo que 6/6 es 100%:\n",
    "        # 6 -- 100\n",
    "        # 1 -- X\n",
    "X = 1 * 100 / 6 # 16.666... (0.17)\n",
    "Z = 100 - X # 83.333...     (0.83)\n",
    "\n",
    "# probabilidad volar a Italia\n",
    "P_I = 0.17\n",
    "    # probabilidad de tener Covid si volé a Italia\n",
    "P_CI = 0.2\n",
    "\n",
    "# probabilidad volar a China\n",
    "P_C = 0.83\n",
    "    # probabilidad de tener Covid si volé a China\n",
    "P_CC = 0.01\n",
    "\n",
    "# probabilidad volar a China y tener Covid debido a ello\n",
    "P_C * P_CC # 0.0083\n",
    "\n",
    "# probabilidad Covid Total\n",
    "P_CovT = (0.17 * 0.2) + (0.83 * 0.01) # 0.04\n",
    "\n",
    "# Teorema de Bayes\n",
    "# Probabilidad de haber viajado a China si tengo Covid\n",
    "# P(China|Covid) = (P(China|Covid)/P(Covid)) = P(Covid|China)/P(Covid) = P(Covid|China)*P(China)/P(Covid_Total) = 0.01*0.83/0.04\n",
    "print(0.01*0.83/P_CovT) # 0.196"
   ]
  },
  {
   "cell_type": "markdown",
   "metadata": {},
   "source": [
    "## BONUS\n",
    "\n",
    "You roll 2 dice. What is the probability that the sum of the numbers is 7? And 8? And 9? Then simulate 10000 times and draw a countplot."
   ]
  },
  {
   "cell_type": "markdown",
   "metadata": {},
   "source": [
    "your explanation here"
   ]
  },
  {
   "cell_type": "code",
   "execution_count": 64,
   "metadata": {},
   "outputs": [
    {
     "name": "stdout",
     "output_type": "stream",
     "text": [
      "sample_space: 12\n",
      "P7: 0.5\n",
      "P8: 0.4166666666666667\n",
      "P9: 0.3333333333333333\n"
     ]
    },
    {
     "data": {
      "image/png": "[encoded data removed]",
      "text/plain": [
       "<Figure size 640x480 with 1 Axes>"
      ]
     },
     "metadata": {},
     "output_type": "display_data"
    }
   ],
   "source": [
    "\"\"\"\n",
    "your solution here\n",
    "\"\"\"\n",
    "import pandas as pd\n",
    "import seaborn as sns\n",
    "\n",
    "def combinations(dice, number):\n",
    "    \"\"\"\n",
    "    Takes the the number of sides of a dice and the number to calculate the combinations and return the number of posible combinations for that number.\n",
    "    \"\"\"\n",
    "    dice_1 = [i for i in range(1,dice+1)]\n",
    "    dice_2 = [i for i in range(1,dice+1)]\n",
    "    combinations = 0\n",
    "    for i in dice_1:\n",
    "        for o in dice_2:\n",
    "            if i+o == number:\n",
    "                combinations +=1\n",
    "    return combinations\n",
    "\n",
    "dice_sides = 6\n",
    "sample_space = dice_sides*2\n",
    "print(f\"sample_space: {sample_space}\")\n",
    "\n",
    "# probabilidad de que la suma de 7\n",
    "P7 = combinations(6,7) / sample_space\n",
    "print(f\"P7: {P7}\")\n",
    "\n",
    "# probabilidad de que la suma de 8\n",
    "P8 = combinations(6,8) / sample_space\n",
    "print(f\"P8: {P8}\")\n",
    "\n",
    "# probabilidad de que la suma de 9\n",
    "P9 = combinations(6,9) / sample_space\n",
    "print(f\"P9: {P9}\")\n",
    "\n",
    "total_combinations = factorial(6*2)/factorial((6*2)-2) # 132\n",
    "\n",
    "# Countplot\n",
    "def tirar_dado_x2(dado):\n",
    "    suma_elecciones = []\n",
    "    eleccion1 = random.choices(dado, k = 10000)\n",
    "    eleccion2 = random.choices(dado, k = 10000)\n",
    "    elecciones = zip(eleccion1, eleccion2)\n",
    "    for i in elecciones:\n",
    "        suma_elecciones.append(i[0] + i[1])\n",
    "    df = pd.DataFrame({'Values':suma_elecciones})\n",
    "    sns.countplot(data=df, x='Values')\n",
    "\n",
    "d6 = [i for i in range(1,6+1)]\n",
    "tirar_dado_x2(d6)"
   ]
  }
 ],
 "metadata": {
  "kernelspec": {
   "display_name": "base",
   "language": "python",
   "name": "python3"
  },
  "language_info": {
   "codemirror_mode": {
    "name": "ipython",
    "version": 3
   },
   "file_extension": ".py",
   "mimetype": "text/x-python",
   "name": "python",
   "nbconvert_exporter": "python",
   "pygments_lexer": "ipython3",
   "version": "3.10.9"
  },
  "toc": {
   "base_numbering": 1,
   "nav_menu": {},
   "number_sections": false,
   "sideBar": true,
   "skip_h1_title": false,
   "title_cell": "Table of Contents",
   "title_sidebar": "Contents",
   "toc_cell": false,
   "toc_position": {
    "height": "calc(100% - 180px)",
    "left": "10px",
    "top": "150px",
    "width": "296.475px"
   },
   "toc_section_display": true,
   "toc_window_display": false
  },
  "varInspector": {
   "cols": {
    "lenName": 16,
    "lenType": 16,
    "lenVar": 40
   },
   "kernels_config": {
    "python": {
     "delete_cmd_postfix": "",
     "delete_cmd_prefix": "del ",
     "library": "var_list.py",
     "varRefreshCmd": "print(var_dic_list())"
    },
    "r": {
     "delete_cmd_postfix": ") ",
     "delete_cmd_prefix": "rm(",
     "library": "var_list.r",
     "varRefreshCmd": "cat(var_dic_list()) "
    }
   },
   "types_to_exclude": [
    "module",
    "function",
    "builtin_function_or_method",
    "instance",
    "_Feature"
   ],
   "window_display": false
  },
  "vscode": {
   "interpreter": {
    "hash": "187a720b13c0aae4c4e5c8f608d831825e55f8a67dcfa22fa687d5211c84fa12"
   }
  }
 },
 "nbformat": 4,
 "nbformat_minor": 2
}
