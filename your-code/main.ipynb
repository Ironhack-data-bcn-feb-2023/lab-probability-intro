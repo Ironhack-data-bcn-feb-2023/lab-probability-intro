{
 "cells": [
  {
   "cell_type": "markdown",
   "metadata": {},
   "source": [
    "# Probability"
   ]
  },
  {
   "cell_type": "markdown",
   "metadata": {},
   "source": [
    "## Challenge 1\n",
    "There is a box with 10 white balls, 12 red balls and 8 black balls. Calculate the probability of:\n",
    "* Taking a white ball out.\n",
    "* Taking a white ball on first extraction and a black ball out on second extraction without replacing the first one.\n",
    "* Taking a white ball on first extraction and a black ball out on second extraction replacing the first one.\n",
    "* Taking 3 balls and them being all different colours."
   ]
  },
  {
   "cell_type": "code",
   "execution_count": 1,
   "metadata": {},
   "outputs": [
    {
     "name": "stdout",
     "output_type": "stream",
     "text": [
      "Probability of taking a white ball out: 0.3333\n",
      "Probability of taking a white ball on first extraction and a black ball out on second extraction without replacing the first one: 0.0920\n",
      "Probability of taking a white ball on first extraction and a black ball out on second extraction replacing the first one: 0.0889\n",
      "Probability of taking 3 balls and them being all different colors: 0.0394\n"
     ]
    }
   ],
   "source": [
    "total_balls = 10 + 12 + 8\n",
    "\n",
    "prob_white_ball = 10 / total_balls\n",
    "\n",
    "prob_white_black_no_replace = (10 / total_balls) * (8 / (total_balls - 1))\n",
    "\n",
    "prob_white_black_with_replace = (10 / total_balls) * (8 / total_balls)\n",
    "\n",
    "prob_different_colors = (10 / total_balls) * (12 / (total_balls - 1)) * (8 / (total_balls - 2))\n",
    "\n",
    "print(f\"Probability of taking a white ball out: {prob_white_ball:.4f}\")\n",
    "print(f\"Probability of taking a white ball on first extraction and a black ball out on second extraction without replacing the first one: {prob_white_black_no_replace:.4f}\")\n",
    "print(f\"Probability of taking a white ball on first extraction and a black ball out on second extraction replacing the first one: {prob_white_black_with_replace:.4f}\")\n",
    "print(f\"Probability of taking 3 balls and them being all different colors: {prob_different_colors:.4f}\")\n"
   ]
  },
  {
   "cell_type": "markdown",
   "metadata": {},
   "source": [
    "## Challenge 2\n",
    "\n",
    "You want to go on picnic on Saturday. You hate rain, and would know to plan your weekend. To help you make a decision, you gather the following data about rainy days:\n",
    "\n",
    "* 40% of all days are cloudy.\n",
    "* About 50% of cloudy days are rainy. \n",
    "* About 20% of non-cloudy days are rainy.\n",
    "\n",
    "What is the chance of rain during next Saturday?"
   ]
  },
  {
   "cell_type": "code",
   "execution_count": 2,
   "metadata": {},
   "outputs": [
    {
     "name": "stdout",
     "output_type": "stream",
     "text": [
      "The chance of rain during next Saturday is: 0.32\n"
     ]
    }
   ],
   "source": [
    "P_A = 0.4\n",
    "P_B_given_A = 0.5\n",
    "P_B_given_not_A = 0.2\n",
    "\n",
    "P_not_A = 1 - P_A\n",
    "\n",
    "P_B = P_B_given_A * P_A + P_B_given_not_A * P_not_A\n",
    "\n",
    "# Print the result\n",
    "print(f\"The chance of rain during next Saturday is: {P_B:.2f}\")"
   ]
  },
  {
   "cell_type": "markdown",
   "metadata": {},
   "source": [
    "## Challenge 3\n",
    "\n",
    "A and B are events of a probability such that $P(A) = 0.3$, $P(B) = 0.6$ and $P(A \\cap B) = 0.1$\n",
    "\n",
    "Which of the following statements are true?  \n",
    "**HINT: draw a big Venn Diagram by your side**  \n",
    "* $P(\\overline{A}) = 0.7$\n",
    "* $P(A \\cup B) = 0.6$\n",
    "* $P(A \\cap \\overline{B}) = 0.2$\n",
    "* $P(A \\cup \\overline{A}) = 1$  \n",
    "* $P(A \\cap (B \\cup \\overline{B})) = 0.4$\n",
    "* $P(\\overline{A} \\cap \\overline{B}) = 0.3$\n",
    "* $P(\\overline{A \\cap B}) = 0.9$"
   ]
  },
  {
   "cell_type": "code",
   "execution_count": 3,
   "metadata": {},
   "outputs": [
    {
     "name": "stdout",
     "output_type": "stream",
     "text": [
      "P(¬A) = 0.7\n",
      "P(A ∩ ¬B) = 0.2\n",
      "P(A ∪ ¬A) = 1.0\n",
      "P(A ∩ (B ∪ ¬B)) = 0.3\n",
      "P(¬A ∩ ¬B) = 0.2\n",
      "P(¬(A ∩ B)) = 0.9\n"
     ]
    }
   ],
   "source": [
    "P_A = 0.3\n",
    "P_B = 0.6\n",
    "P_A_and_B = 0.1\n",
    "\n",
    "P_not_A = 1 - P_A\n",
    "\n",
    "P_A_or_B = P_A + P_B - P_A_and_B\n",
    "\n",
    "P_A_and_not_B = P_A - P_A_and_B\n",
    "\n",
    "P_A_or_not_A = P_A + P_not_A\n",
    "\n",
    "P_A_and_B_or_not_B = P_A\n",
    "\n",
    "P_not_A_and_not_B = 1 - (P_A + P_B - P_A_and_B)\n",
    "\n",
    "P_not_A_and_not_B_or_not_A_and_B = 1 - P_A_and_B\n",
    "\n",
    "print(f\"P(¬A) = {P_not_A:.1f}\")\n",
    "print(f\"P(A ∩ ¬B) = {P_A_and_not_B:.1f}\")\n",
    "print(f\"P(A ∪ ¬A) = {P_A_or_not_A:.1f}\")\n",
    "print(f\"P(A ∩ (B ∪ ¬B)) = {P_A_and_B_or_not_B:.1f}\")\n",
    "print(f\"P(¬A ∩ ¬B) = {P_not_A_and_not_B:.1f}\")\n",
    "print(f\"P(¬(A ∩ B)) = {P_not_A_and_not_B_or_not_A_and_B:.1f}\")\n"
   ]
  },
  {
   "cell_type": "markdown",
   "metadata": {},
   "source": [
    "## Challenge 4\n",
    "\n",
    " * If someone flies to China, the probability of getting Covid is 1%  \n",
    " * If someone flies to Italy, the probability of getting Covid is 20%  \n",
    "\n",
    "I roll 1 dice with numbers 1, 2, 3, 4, 5, 6:  \n",
    " * If 1: I fly to Italy\n",
    " * If not 1: I fly to China\n",
    "\n",
    "During my trip, I got Covid. What is the probability that I flew to China?"
   ]
  },
  {
   "cell_type": "code",
   "execution_count": 4,
   "metadata": {},
   "outputs": [
    {
     "name": "stdout",
     "output_type": "stream",
     "text": [
      "The probability that you flew to China given you got Covid is: 0.01\n"
     ]
    }
   ],
   "source": [
    "P_A = 1/6\n",
    "P_not_A = 5/6\n",
    "P_B_given_A = 0.01\n",
    "P_B_given_not_A = 0.2\n",
    "\n",
    "P_B = (P_B_given_A * P_A) + (P_B_given_not_A * P_not_A)\n",
    "\n",
    "P_A_given_B = (P_B_given_A * P_A) / P_B\n",
    "\n",
    "print(f\"The probability that you flew to China given you got Covid is: {P_A_given_B:.2f}\")\n"
   ]
  },
  {
   "cell_type": "markdown",
   "metadata": {},
   "source": [
    "## BONUS\n",
    "\n",
    "You roll 2 dice. What is the probability that the sum of the numbers is 7? And 8? And 9? Then simulate 10000 times and draw a countplot."
   ]
  },
  {
   "cell_type": "markdown",
   "metadata": {},
   "source": [
    "your explanation here"
   ]
  },
  {
   "cell_type": "code",
   "execution_count": null,
   "metadata": {},
   "outputs": [],
   "source": [
    "# your code here"
   ]
  },
  {
   "cell_type": "code",
   "execution_count": null,
   "metadata": {},
   "outputs": [],
   "source": [
    "\"\"\"\n",
    "your solution here\n",
    "\"\"\""
   ]
  }
 ],
 "metadata": {
  "kernelspec": {
   "display_name": "Python 3",
   "language": "python",
   "name": "python3"
  },
  "language_info": {
   "codemirror_mode": {
    "name": "ipython",
    "version": 3
   },
   "file_extension": ".py",
   "mimetype": "text/x-python",
   "name": "python",
   "nbconvert_exporter": "python",
   "pygments_lexer": "ipython3",
   "version": "3.11.3"
  },
  "toc": {
   "base_numbering": 1,
   "nav_menu": {},
   "number_sections": false,
   "sideBar": true,
   "skip_h1_title": false,
   "title_cell": "Table of Contents",
   "title_sidebar": "Contents",
   "toc_cell": false,
   "toc_position": {
    "height": "calc(100% - 180px)",
    "left": "10px",
    "top": "150px",
    "width": "296.475px"
   },
   "toc_section_display": true,
   "toc_window_display": false
  },
  "varInspector": {
   "cols": {
    "lenName": 16,
    "lenType": 16,
    "lenVar": 40
   },
   "kernels_config": {
    "python": {
     "delete_cmd_postfix": "",
     "delete_cmd_prefix": "del ",
     "library": "var_list.py",
     "varRefreshCmd": "print(var_dic_list())"
    },
    "r": {
     "delete_cmd_postfix": ") ",
     "delete_cmd_prefix": "rm(",
     "library": "var_list.r",
     "varRefreshCmd": "cat(var_dic_list()) "
    }
   },
   "types_to_exclude": [
    "module",
    "function",
    "builtin_function_or_method",
    "instance",
    "_Feature"
   ],
   "window_display": false
  }
 },
 "nbformat": 4,
 "nbformat_minor": 2
}
