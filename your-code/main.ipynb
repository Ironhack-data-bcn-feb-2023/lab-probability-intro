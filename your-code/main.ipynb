{
 "cells": [
  {
   "cell_type": "markdown",
   "metadata": {},
   "source": [
    "# Probability"
   ]
  },
  {
   "cell_type": "markdown",
   "metadata": {},
   "source": [
    "## Challenge 1\n",
    "There is a box with 10 white balls, 12 red balls and 8 black balls. Calculate the probability of:\n",
    "* Taking a white ball out.\n",
    "* Taking a white ball on first extraction and a black ball out on second extraction without replacing the first one.\n",
    "* Taking a white ball on first extraction and a black ball out on second extraction replacing the first one.\n",
    "* Taking 3 balls and them being all different colours."
   ]
  },
  {
   "cell_type": "code",
   "execution_count": 9,
   "metadata": {},
   "outputs": [
    {
     "name": "stdout",
     "output_type": "stream",
     "text": [
      "The asnwer to 1st Question is: 0.3333333333333333\n",
      "The asnwer to 2nd Question is: 0.08888888888888888\n",
      "The asnwer to 3rd Question is: 0.6\n",
      "The asnwer to 4th Question is: 0.035555555555555556\n"
     ]
    }
   ],
   "source": [
    "n_white=10\n",
    "n_red=12\n",
    "n_black=8\n",
    "total=n_white+n_red+n_black\n",
    "\n",
    "prob_white = n_white/total\n",
    "prob_red = n_red/total\n",
    "prob_black= n_black/total\n",
    "\n",
    "print(f'The asnwer to 1st Question is: {prob_white}')\n",
    "print(f'The asnwer to 2nd Question is: {prob_white*prob_black}')\n",
    "print(f'The asnwer to 3rd Question is: {prob_white+prob_black}')\n",
    "print(f'The asnwer to 4th Question is: {prob_white*prob_black*prob_red}')"
   ]
  },
  {
   "cell_type": "markdown",
   "metadata": {},
   "source": [
    "## Challenge 2\n",
    "\n",
    "You want to go on picnic on Saturday. You hate rain, and would know to plan your weekend. To help you make a decision, you gather the following data about rainy days:\n",
    "\n",
    "* 40% of all days are cloudy.\n",
    "* About 50% of cloudy days are rainy. \n",
    "* About 20% of non-cloudy days are rainy.\n",
    "\n",
    "What is the chance of rain during next Saturday?"
   ]
  },
  {
   "cell_type": "code",
   "execution_count": 11,
   "metadata": {},
   "outputs": [
    {
     "name": "stdout",
     "output_type": "stream",
     "text": [
      "The chance of rain during next Saturday is: 0.045714285714285714\n"
     ]
    }
   ],
   "source": [
    "cloudy_days=0.4\n",
    "non_cloudy_days=1-cloudy_days\n",
    "\n",
    "rainy_cloudy=0.5*cloudy_days\n",
    "rainy_non_cloudy=0.2*non_cloudy_days\n",
    "\n",
    "saturday=1/7\n",
    "\n",
    "prob_rain_saturday=saturday*(rainy_cloudy+rainy_non_cloudy)\n",
    "\n",
    "print(f'The chance of rain during next Saturday is: {prob_rain_saturday}')"
   ]
  },
  {
   "cell_type": "markdown",
   "metadata": {},
   "source": [
    "## Challenge 3\n",
    "\n",
    "A and B are events of a probability such that $P(A) = 0.3$, $P(B) = 0.6$ and $P(A \\cap B) = 0.1$\n",
    "\n",
    "Which of the following statements are true?  \n",
    "**HINT: draw a big Venn Diagram by your side**  \n",
    "* $P(\\overline{A}) = 0.7$\n",
    "* $P(A \\cup B) = 0.6$\n",
    "* $P(A \\cap \\overline{B}) = 0.2$\n",
    "* $P(A \\cup \\overline{A}) = 1$  \n",
    "* $P(A \\cap (B \\cup \\overline{B})) = 0.4$\n",
    "* $P(\\overline{A} \\cap \\overline{B}) = 0.3$\n",
    "* $P(\\overline{A \\cap B}) = 0.9$"
   ]
  },
  {
   "cell_type": "code",
   "execution_count": 15,
   "metadata": {},
   "outputs": [
    {
     "name": "stdout",
     "output_type": "stream",
     "text": [
      "For 1st statement the answer is: 0.7 - True\n",
      "For 2nd statement the answer is: 0.7999999999999999 - False\n",
      "For 3rd statement the answer is: 0.19999999999999998 - True\n",
      "For 4th statement the answer is: 1.0 - True\n",
      "For 5th statement the answer is: 0.3 - False\n",
      "For 6th statement the answer is: 0.9 - False\n",
      "For 7th statement the answer is: 0.9 - True\n"
     ]
    }
   ],
   "source": [
    "p_a=0.3\n",
    "p_b=0.6\n",
    "p_a_not_b=0.1\n",
    "\n",
    "statement_1=1-p_a\n",
    "statement_2=p_a+p_b-p_a_not_b\n",
    "statement_3=p_a-p_a_not_b\n",
    "statement_4=p_a+statement_1\n",
    "statement_5=p_a\n",
    "statement_6=1-p_a_not_b\n",
    "statement_7=statement_6\n",
    "\n",
    "print(f'For 1st statement the answer is: {statement_1} - True')\n",
    "print(f'For 2nd statement the answer is: {statement_2} - False')\n",
    "print(f'For 3rd statement the answer is: {statement_3} - True')\n",
    "print(f'For 4th statement the answer is: {statement_4} - True')\n",
    "print(f'For 5th statement the answer is: {statement_5} - False')\n",
    "print(f'For 6th statement the answer is: {statement_6} - False')\n",
    "print(f'For 7th statement the answer is: {statement_7} - True')"
   ]
  },
  {
   "cell_type": "markdown",
   "metadata": {},
   "source": [
    "## Challenge 4\n",
    "\n",
    " * If someone flies to China, the probability of getting Covid is 1%  \n",
    " * If someone flies to Italy, the probability of getting Covid is 20%  \n",
    "\n",
    "I roll 1 dice with numbers 1, 2, 3, 4, 5, 6:  \n",
    " * If 1: I fly to Italy\n",
    " * If not 1: I fly to China\n",
    "\n",
    "During my trip, I got Covid. What is the probability that I flew to China?"
   ]
  },
  {
   "cell_type": "code",
   "execution_count": 16,
   "metadata": {},
   "outputs": [],
   "source": [
    "# your code here\n",
    "covid_in_china=0.01\n",
    "covid_in_italy=0.2\n",
    "\n",
    "flying_italy = 1/6\n",
    "flying_china = 1-flying_italy"
   ]
  },
  {
   "cell_type": "code",
   "execution_count": 17,
   "metadata": {},
   "outputs": [
    {
     "name": "stdout",
     "output_type": "stream",
     "text": [
      "The probability of flying china is: 0.8333333333333334\n"
     ]
    }
   ],
   "source": [
    "print(f'The probability of flying china is: {flying_china}')"
   ]
  },
  {
   "cell_type": "markdown",
   "metadata": {},
   "source": [
    "## BONUS\n",
    "\n",
    "You roll 2 dice. What is the probability that the sum of the numbers is 7? And 8? And 9? Then simulate 10000 times and draw a countplot."
   ]
  },
  {
   "cell_type": "markdown",
   "metadata": {},
   "source": [
    "your explanation here"
   ]
  },
  {
   "cell_type": "code",
   "execution_count": 22,
   "metadata": {},
   "outputs": [
    {
     "data": {
      "text/plain": [
       "'\\nPossibilities of obtain 7 in total, there are 6 possible outcomes: (1, 6), (2, 5), (3, 4), (4, 3), (5, 2), and (6, 1).\\nPossibilities of obtain 8 in total, there are 5 possible outcomes: (2, 6), (3, 5), (4, 4), (5, 3), and (6, 2).\\nPossibilities of obtain 9 in total, there are 4 possible outcomes:: (3, 6), (4, 5), (5, 4), and (6, 3).\\n'"
      ]
     },
     "execution_count": 22,
     "metadata": {},
     "output_type": "execute_result"
    }
   ],
   "source": [
    "\"\"\"\n",
    "Possibilities of obtain 7 in total, there are 6 possible outcomes: (1, 6), (2, 5), (3, 4), (4, 3), (5, 2), and (6, 1).\n",
    "Possibilities of obtain 8 in total, there are 5 possible outcomes: (2, 6), (3, 5), (4, 4), (5, 3), and (6, 2).\n",
    "Possibilities of obtain 9 in total, there are 4 possible outcomes:: (3, 6), (4, 5), (5, 4), and (6, 3).\n",
    "\"\"\""
   ]
  },
  {
   "cell_type": "code",
   "execution_count": 23,
   "metadata": {},
   "outputs": [
    {
     "name": "stdout",
     "output_type": "stream",
     "text": [
      "The probability of getting 7 in total with 2 dices is: 0.16666666666666666\n",
      "The probability of getting 8 in total with 2 dices is: 0.1388888888888889\n",
      "The probability of getting 9 in total with 2 dices is: 0.1111111111111111\n"
     ]
    }
   ],
   "source": [
    "two_dice_outcomes = 6*6\n",
    "prob_seven=6/two_dice_outcomes\n",
    "prob_eight=5/two_dice_outcomes\n",
    "prob_nine=4/two_dice_outcomes\n",
    "\n",
    "print(f'The probability of getting 7 in total with 2 dices is: {prob_seven}')\n",
    "print(f'The probability of getting 8 in total with 2 dices is: {prob_eight}')\n",
    "print(f'The probability of getting 9 in total with 2 dices is: {prob_nine}')"
   ]
  },
  {
   "cell_type": "code",
   "execution_count": 28,
   "metadata": {},
   "outputs": [
    {
     "data": {
      "image/png": "[encoded data removed]",
      "text/plain": [
       "<Figure size 640x480 with 1 Axes>"
      ]
     },
     "metadata": {},
     "output_type": "display_data"
    }
   ],
   "source": [
    "import numpy as np\n",
    "import matplotlib.pyplot as plt\n",
    "\n",
    "# Simulate 10,000 rolls of two dice\n",
    "rolls = np.random.randint(1, 7, size=(10000, 2))\n",
    "\n",
    "# Calculate the sums of the two dice for each roll\n",
    "sums = np.sum(rolls, axis=1)\n",
    "\n",
    "# Count the occurrences of each sum\n",
    "counts = np.bincount(sums)\n",
    "\n",
    "# Plot a countplot\n",
    "plt.bar(range(2, 13), counts[2:])\n",
    "plt.xlabel('Sum')\n",
    "plt.ylabel('Count')\n",
    "plt.title('Simulation of 10,000 Rolls of 2 dice')\n",
    "plt.show()"
   ]
  },
  {
   "cell_type": "code",
   "execution_count": null,
   "metadata": {},
   "outputs": [],
   "source": []
  }
 ],
 "metadata": {
  "kernelspec": {
   "display_name": "Python 3 (ipykernel)",
   "language": "python",
   "name": "python3"
  },
  "language_info": {
   "codemirror_mode": {
    "name": "ipython",
    "version": 3
   },
   "file_extension": ".py",
   "mimetype": "text/x-python",
   "name": "python",
   "nbconvert_exporter": "python",
   "pygments_lexer": "ipython3",
   "version": "3.10.9"
  },
  "toc": {
   "base_numbering": 1,
   "nav_menu": {},
   "number_sections": false,
   "sideBar": true,
   "skip_h1_title": false,
   "title_cell": "Table of Contents",
   "title_sidebar": "Contents",
   "toc_cell": false,
   "toc_position": {
    "height": "calc(100% - 180px)",
    "left": "10px",
    "top": "150px",
    "width": "296.475px"
   },
   "toc_section_display": true,
   "toc_window_display": false
  },
  "varInspector": {
   "cols": {
    "lenName": 16,
    "lenType": 16,
    "lenVar": 40
   },
   "kernels_config": {
    "python": {
     "delete_cmd_postfix": "",
     "delete_cmd_prefix": "del ",
     "library": "var_list.py",
     "varRefreshCmd": "print(var_dic_list())"
    },
    "r": {
     "delete_cmd_postfix": ") ",
     "delete_cmd_prefix": "rm(",
     "library": "var_list.r",
     "varRefreshCmd": "cat(var_dic_list()) "
    }
   },
   "types_to_exclude": [
    "module",
    "function",
    "builtin_function_or_method",
    "instance",
    "_Feature"
   ],
   "window_display": false
  }
 },
 "nbformat": 4,
 "nbformat_minor": 2
}
