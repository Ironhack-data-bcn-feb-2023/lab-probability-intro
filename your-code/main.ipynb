{
 "cells": [
  {
   "cell_type": "markdown",
   "metadata": {},
   "source": [
    "# Probability"
   ]
  },
  {
   "cell_type": "markdown",
   "metadata": {},
   "source": [
    "## Challenge 1\n",
    "There is a box with 10 white balls, 12 red balls and 8 black balls. Calculate the probability of:\n",
    "* Taking a white ball out.\n",
    "* Taking a white ball on first extraction and a black ball out on second extraction without replacing the first one.\n",
    "* Taking a white ball on first extraction and a black ball out on second extraction replacing the first one.\n",
    "* Taking 3 balls and them being all different colours."
   ]
  },
  {
   "cell_type": "code",
   "execution_count": 4,
   "metadata": {},
   "outputs": [
    {
     "name": "stdout",
     "output_type": "stream",
     "text": [
      "Probability of taking a white ball out:, 33.33%\n",
      "Probability of taking a white ball on first extraction and a black ball out on second extraction without replacement:, 9.2%\n",
      "Probability of taking a white ball on first extraction and a black ball out on second extraction with replacement:, 8.89%\n",
      "Probability of taking 3 balls and them being all different colors:, 3.94%\n"
     ]
    }
   ],
   "source": [
    "# Total number of balls\n",
    "total_balls = 10 + 12 + 8\n",
    "\n",
    "# Probability of taking a white ball out\n",
    "probability_white = round(10 / total_balls * 100, 2)\n",
    "\n",
    "# Probability of taking a white ball on first extraction and a black ball out on second extraction without replacing the first one\n",
    "probability_white_black_without_replacement = round((10 / total_balls) * (8 / (total_balls - 1)) * 100, 2)\n",
    "\n",
    "# Probability of taking a white ball on first extraction and a black ball out on second extraction replacing the first one\n",
    "probability_white_black_with_replacement = round((10 / total_balls) * (8 / total_balls) * 100, 2)\n",
    "\n",
    "# Probability of taking 3 balls and them being all different colors\n",
    "probability_different_colors = round((10 / total_balls) * (12 / (total_balls - 1)) * (8 / (total_balls - 2)) * 100, 2)\n",
    "\n",
    "print(f\"Probability of taking a white ball out:, {probability_white}%\")\n",
    "print(f\"Probability of taking a white ball on first extraction and a black ball out on second extraction without replacement:, {probability_white_black_without_replacement}%\")\n",
    "print(f\"Probability of taking a white ball on first extraction and a black ball out on second extraction with replacement:, {probability_white_black_with_replacement}%\")\n",
    "print(f\"Probability of taking 3 balls and them being all different colors:, {probability_different_colors}%\")\n"
   ]
  },
  {
   "cell_type": "markdown",
   "metadata": {},
   "source": [
    "## Challenge 2\n",
    "\n",
    "You want to go on picnic on Saturday. You hate rain, and would know to plan your weekend. To help you make a decision, you gather the following data about rainy days:\n",
    "\n",
    "* 40% of all days are cloudy.\n",
    "* About 50% of cloudy days are rainy. \n",
    "* About 20% of non-cloudy days are rainy.\n",
    "\n",
    "What is the chance of rain during next Saturday?"
   ]
  },
  {
   "cell_type": "code",
   "execution_count": 21,
   "metadata": {},
   "outputs": [
    {
     "name": "stdout",
     "output_type": "stream",
     "text": [
      "32.0%\n"
     ]
    }
   ],
   "source": [
    "probability_cloudy = 0.4\n",
    "\n",
    "probability_non_cloudy = 1 - probability_cloudy\n",
    "\n",
    "probability_rain_given_cloudy = 0.5\n",
    "\n",
    "probability_rain_given_non_cloudy = 0.2\n",
    "\n",
    "probability_rain_on_saturday = (probability_cloudy * probability_rain_given_cloudy) + (probability_non_cloudy * probability_rain_given_non_cloudy)\n",
    "\n",
    "print(f'{round(probability_rain_on_saturday*100, 2)}%')\n"
   ]
  },
  {
   "cell_type": "markdown",
   "metadata": {},
   "source": [
    "## Challenge 3\n",
    "\n",
    "A and B are events of a probability such that $P(A) = 0.3$, $P(B) = 0.6$ and $P(A \\cap B) = 0.1$\n",
    "\n",
    "Which of the following statements are true?  \n",
    "**HINT: draw a big Venn Diagram by your side**  \n",
    "* $P(\\overline{A}) = 0.7$\n",
    "* $P(A \\cup B) = 0.6$\n",
    "* $P(A \\cap \\overline{B}) = 0.2$\n",
    "* $P(A \\cup \\overline{A}) = 1$  \n",
    "* $P(A \\cap (B \\cup \\overline{B})) = 0.4$\n",
    "* $P(\\overline{A} \\cap \\overline{B}) = 0.3$\n",
    "* $P(\\overline{A \\cap B}) = 0.9$"
   ]
  },
  {
   "cell_type": "markdown",
   "metadata": {},
   "source": [
    "True statements:\n",
    "* $P(\\overline{A}) = 0.7$ ok\n",
    "* $P(A \\cap \\overline{B}) = 0.2$ ok\n",
    "* $P(A \\cup \\overline{A}) = 1$  ok\n",
    "* $P(\\overline{A \\cap B}) = 0.9$ ok\n",
    "\n",
    "    "
   ]
  },
  {
   "cell_type": "markdown",
   "metadata": {},
   "source": [
    "## Challenge 4\n",
    "\n",
    " * If someone flies to China, the probability of getting Covid is 1%  \n",
    " * If someone flies to Italy, the probability of getting Covid is 20%  \n",
    "\n",
    "I roll 1 dice with numbers 1, 2, 3, 4, 5, 6:  \n",
    " * If 1: I fly to Italy\n",
    " * If not 1: I fly to China\n",
    "\n",
    "During my trip, I got Covid. What is the probability that I flew to China?"
   ]
  },
  {
   "cell_type": "code",
   "execution_count": 15,
   "metadata": {},
   "outputs": [
    {
     "name": "stdout",
     "output_type": "stream",
     "text": [
      "Total robalility of covid: 4.17%\n",
      "Probability i flew to china: 20.0%\n"
     ]
    }
   ],
   "source": [
    "p_china = 5/6\n",
    "p_italia = 1/6\n",
    "\n",
    "p_covid_if_china = 0.01\n",
    "p_covid_if_italy = 0.2\n",
    "\n",
    "p_covid = p_china * p_covid_if_china + p_italia * p_covid_if_italy\n",
    "print(f'Total robalility of covid: {round(p_covid*100, 2)}%')\n",
    "\n",
    "p_flying_to_china = (p_china * p_covid_if_china) / p_covid\n",
    "print(f'Probability i flew to china: {round(p_flying_to_china*100, 2)}%')"
   ]
  },
  {
   "cell_type": "markdown",
   "metadata": {},
   "source": [
    "## BONUS\n",
    "\n",
    "You roll 2 dice. What is the probability that the sum of the numbers is 7? And 8? And 9? Then simulate 10000 times and draw a countplot."
   ]
  },
  {
   "cell_type": "markdown",
   "metadata": {},
   "source": [
    "* We have 6 possible combinations of getting 7 when sum: (1, 6), (2, 5), (3, 4), (4, 3), (5, 2), (6, 1)\n",
    "* We have 5 possible combinations of getting 8 when sum: (2, 6), (3, 5), (4, 4), (5, 3), (6, 2)\n",
    "* We have 4 possible combinations of getting 9 when sum: (3, 6), (4, 5), (5, 4), (6, 3)\n",
    "* We have 36 possible combinations when rolling 2 dice."
   ]
  },
  {
   "cell_type": "code",
   "execution_count": 17,
   "metadata": {},
   "outputs": [],
   "source": [
    "p_7 = 6 / 36 * 100\n",
    "p_8 = 5 / 36 * 100\n",
    "p_9 = 4 / 36 * 100"
   ]
  },
  {
   "cell_type": "code",
   "execution_count": 22,
   "metadata": {},
   "outputs": [],
   "source": [
    "import numpy as np\n",
    "\n",
    "rolls = np.random.randint(1, 7, size=(10000, 2))\n",
    "sums = np.sum(rolls, axis=1)\n",
    "\n",
    "# Calculate the counts for each sum\n",
    "counts = np.bincount(sums)[2:13] "
   ]
  },
  {
   "cell_type": "code",
   "execution_count": 23,
   "metadata": {},
   "outputs": [
    {
     "data": {
      "image/png": "[encoded data removed]",
      "text/plain": [
       "<Figure size 1000x600 with 1 Axes>"
      ]
     },
     "metadata": {},
     "output_type": "display_data"
    }
   ],
   "source": [
    "import matplotlib.pyplot as plt\n",
    "\n",
    "plt.figure(figsize=(10, 6))\n",
    "plt.bar(range(2, 13), counts)\n",
    "plt.xlabel('Sum of Numbers')\n",
    "plt.ylabel('Count')\n",
    "plt.title('Sums from Rolling Two Dice (10k Simulations)')\n",
    "plt.show()"
   ]
  }
 ],
 "metadata": {
  "kernelspec": {
   "display_name": "Python 3",
   "language": "python",
   "name": "python3"
  },
  "language_info": {
   "codemirror_mode": {
    "name": "ipython",
    "version": 3
   },
   "file_extension": ".py",
   "mimetype": "text/x-python",
   "name": "python",
   "nbconvert_exporter": "python",
   "pygments_lexer": "ipython3",
   "version": "3.9.16"
  },
  "toc": {
   "base_numbering": 1,
   "nav_menu": {},
   "number_sections": false,
   "sideBar": true,
   "skip_h1_title": false,
   "title_cell": "Table of Contents",
   "title_sidebar": "Contents",
   "toc_cell": false,
   "toc_position": {
    "height": "calc(100% - 180px)",
    "left": "10px",
    "top": "150px",
    "width": "296.475px"
   },
   "toc_section_display": true,
   "toc_window_display": false
  },
  "varInspector": {
   "cols": {
    "lenName": 16,
    "lenType": 16,
    "lenVar": 40
   },
   "kernels_config": {
    "python": {
     "delete_cmd_postfix": "",
     "delete_cmd_prefix": "del ",
     "library": "var_list.py",
     "varRefreshCmd": "print(var_dic_list())"
    },
    "r": {
     "delete_cmd_postfix": ") ",
     "delete_cmd_prefix": "rm(",
     "library": "var_list.r",
     "varRefreshCmd": "cat(var_dic_list()) "
    }
   },
   "types_to_exclude": [
    "module",
    "function",
    "builtin_function_or_method",
    "instance",
    "_Feature"
   ],
   "window_display": false
  }
 },
 "nbformat": 4,
 "nbformat_minor": 2
}
